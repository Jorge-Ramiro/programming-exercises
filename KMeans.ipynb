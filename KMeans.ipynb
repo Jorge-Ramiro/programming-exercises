{
 "cells": [
  {
   "cell_type": "markdown",
   "metadata": {},
   "source": [
    "# Librerias"
   ]
  },
  {
   "cell_type": "code",
   "execution_count": 1,
   "metadata": {},
   "outputs": [],
   "source": [
    "import pandas as pd\n",
    "pd.options.display.max_columns = None\n",
    "import numpy as np\n",
    "\n",
    "from sklearn.cluster import KMeans\n",
    "from sklearn.decomposition import PCA\n",
    "from sklearn.preprocessing import StandardScaler\n",
    "from sklearn.metrics import silhouette_score\n",
    "\n",
    "import seaborn as sns\n",
    "import matplotlib.pyplot as plt\n",
    "\n",
    "import gspread\n",
    "from oauth2client.service_account import ServiceAccountCredentials"
   ]
  },
  {
   "cell_type": "markdown",
   "metadata": {},
   "source": [
    "# Obtener los datos"
   ]
  },
  {
   "cell_type": "code",
   "execution_count": 2,
   "metadata": {},
   "outputs": [],
   "source": [
    "scope = [\"https://spreadsheets.google.com/feeds\",'https://www.googleapis.com/auth/spreadsheets',\n",
    "\"https://www.googleapis.com/auth/drive.file\",\"https://www.googleapis.com/auth/drive\"]\n",
    "creds = ServiceAccountCredentials.from_json_keyfile_name(\"data-365420-bc47f140dd2b.json\", scope)\n",
    "client = gspread.authorize(creds)\n",
    "sheet = client.open(\"Información de contacto (Respuestas)\").sheet1\n",
    "data_sheet = sheet.get_all_records() # una lista "
   ]
  },
  {
   "cell_type": "markdown",
   "metadata": {},
   "source": [
    "# Limpieza y manipulación de los datos"
   ]
  },
  {
   "cell_type": "code",
   "execution_count": 3,
   "metadata": {},
   "outputs": [
    {
     "data": {
      "text/html": [
       "<div>\n",
       "<style scoped>\n",
       "    .dataframe tbody tr th:only-of-type {\n",
       "        vertical-align: middle;\n",
       "    }\n",
       "\n",
       "    .dataframe tbody tr th {\n",
       "        vertical-align: top;\n",
       "    }\n",
       "\n",
       "    .dataframe thead th {\n",
       "        text-align: right;\n",
       "    }\n",
       "</style>\n",
       "<table border=\"1\" class=\"dataframe\">\n",
       "  <thead>\n",
       "    <tr style=\"text-align: right;\">\n",
       "      <th></th>\n",
       "      <th>0</th>\n",
       "      <th>1</th>\n",
       "      <th>2</th>\n",
       "      <th>3</th>\n",
       "      <th>4</th>\n",
       "      <th>5</th>\n",
       "      <th>6</th>\n",
       "      <th>7</th>\n",
       "      <th>8</th>\n",
       "      <th>9</th>\n",
       "      <th>10</th>\n",
       "      <th>11</th>\n",
       "      <th>12</th>\n",
       "    </tr>\n",
       "  </thead>\n",
       "  <tbody>\n",
       "    <tr>\n",
       "      <th>0</th>\n",
       "      <td>10/6/2022 18:48:37</td>\n",
       "      <td>adamianmm@gmail.com</td>\n",
       "      <td>Damian</td>\n",
       "      <td>3</td>\n",
       "      <td>CDMX</td>\n",
       "      <td>22</td>\n",
       "      <td>Hombre</td>\n",
       "      <td>Pop, Reggaeton, Clásica, Rock, Hip Hop</td>\n",
       "      <td>Gatos</td>\n",
       "      <td>Naruto, Grey's Anatomy, Lost</td>\n",
       "      <td>3</td>\n",
       "      <td>11:30:00 AM</td>\n",
       "      <td>Si</td>\n",
       "    </tr>\n",
       "    <tr>\n",
       "      <th>1</th>\n",
       "      <td>10/6/2022 18:49:07</td>\n",
       "      <td>sebastianzarraga43@aragon.unam.mx</td>\n",
       "      <td>Sebastian Zaaraga</td>\n",
       "      <td>10</td>\n",
       "      <td>Mexico</td>\n",
       "      <td>22</td>\n",
       "      <td>Hombre</td>\n",
       "      <td>Reggaeton, Hip Hop</td>\n",
       "      <td>Perros, Peces</td>\n",
       "      <td>Game of Thrones , Naruto , Sons of Anarchy</td>\n",
       "      <td>1</td>\n",
       "      <td>10:00:00 AM</td>\n",
       "      <td>Si</td>\n",
       "    </tr>\n",
       "    <tr>\n",
       "      <th>2</th>\n",
       "      <td>10/6/2022 18:49:16</td>\n",
       "      <td>mariogaiden2@ciencias.unam.mx</td>\n",
       "      <td>Mario Guadiana Martinez</td>\n",
       "      <td>10</td>\n",
       "      <td>Guanajuato</td>\n",
       "      <td>27</td>\n",
       "      <td>Hombre</td>\n",
       "      <td>Hip Hop</td>\n",
       "      <td>Gatos</td>\n",
       "      <td>Alf, príncipe de beler, prision break</td>\n",
       "      <td>2</td>\n",
       "      <td>11:00:00 AM</td>\n",
       "      <td>No</td>\n",
       "    </tr>\n",
       "    <tr>\n",
       "      <th>3</th>\n",
       "      <td>10/6/2022 18:49:33</td>\n",
       "      <td>cecy.95.ad@gmail.com</td>\n",
       "      <td>Cecilia</td>\n",
       "      <td>14</td>\n",
       "      <td>Sinaloa</td>\n",
       "      <td>26</td>\n",
       "      <td>Mujer</td>\n",
       "      <td>Pop</td>\n",
       "      <td></td>\n",
       "      <td>one piece, siete pecados capitales.</td>\n",
       "      <td>3</td>\n",
       "      <td>11:30:00 AM</td>\n",
       "      <td>No</td>\n",
       "    </tr>\n",
       "    <tr>\n",
       "      <th>4</th>\n",
       "      <td>10/6/2022 18:49:33</td>\n",
       "      <td>fabricioescalantep@gmail.com</td>\n",
       "      <td>Fabricio E</td>\n",
       "      <td>13</td>\n",
       "      <td>CDMX</td>\n",
       "      <td>21</td>\n",
       "      <td>Hombre</td>\n",
       "      <td>Metal, Reggaeton, Clásica, Rock, Jazz</td>\n",
       "      <td>Perros</td>\n",
       "      <td>Mindhunter, How I Met Your Mother, Attack On T...</td>\n",
       "      <td>2</td>\n",
       "      <td>3:30:00 AM</td>\n",
       "      <td>Si</td>\n",
       "    </tr>\n",
       "  </tbody>\n",
       "</table>\n",
       "</div>"
      ],
      "text/plain": [
       "                   0                                  1   \\\n",
       "0  10/6/2022 18:48:37                adamianmm@gmail.com   \n",
       "1  10/6/2022 18:49:07  sebastianzarraga43@aragon.unam.mx   \n",
       "2  10/6/2022 18:49:16      mariogaiden2@ciencias.unam.mx   \n",
       "3  10/6/2022 18:49:33               cecy.95.ad@gmail.com   \n",
       "4  10/6/2022 18:49:33       fabricioescalantep@gmail.com   \n",
       "\n",
       "                        2   3           4   5       6   \\\n",
       "0                   Damian   3        CDMX  22  Hombre   \n",
       "1        Sebastian Zaaraga  10      Mexico  22  Hombre   \n",
       "2  Mario Guadiana Martinez  10  Guanajuato  27  Hombre   \n",
       "3                  Cecilia  14     Sinaloa  26   Mujer   \n",
       "4               Fabricio E  13        CDMX  21  Hombre   \n",
       "\n",
       "                                       7              8   \\\n",
       "0  Pop, Reggaeton, Clásica, Rock, Hip Hop          Gatos   \n",
       "1                      Reggaeton, Hip Hop  Perros, Peces   \n",
       "2                                 Hip Hop          Gatos   \n",
       "3                                     Pop                  \n",
       "4   Metal, Reggaeton, Clásica, Rock, Jazz         Perros   \n",
       "\n",
       "                                                  9   10           11  12  \n",
       "0                       Naruto, Grey's Anatomy, Lost   3  11:30:00 AM  Si  \n",
       "1         Game of Thrones , Naruto , Sons of Anarchy   1  10:00:00 AM  Si  \n",
       "2              Alf, príncipe de beler, prision break   2  11:00:00 AM  No  \n",
       "3                one piece, siete pecados capitales.   3  11:30:00 AM  No  \n",
       "4  Mindhunter, How I Met Your Mother, Attack On T...   2   3:30:00 AM  Si  "
      ]
     },
     "execution_count": 3,
     "metadata": {},
     "output_type": "execute_result"
    }
   ],
   "source": [
    "df_survey = pd.DataFrame(data_sheet)\n",
    "columns = df_survey.columns\n",
    "df_survey = df_survey.rename(columns={columns[i]: i for i in range(len(columns))})\n",
    "df_survey.head()"
   ]
  },
  {
   "cell_type": "code",
   "execution_count": 4,
   "metadata": {},
   "outputs": [
    {
     "data": {
      "text/plain": [
       "0     18.800000\n",
       "1     18.816667\n",
       "2     18.816667\n",
       "3     18.816667\n",
       "4     18.816667\n",
       "5     18.816667\n",
       "6     18.833333\n",
       "7     18.833333\n",
       "8     18.833333\n",
       "9     18.833333\n",
       "10    18.850000\n",
       "11    18.850000\n",
       "12    18.866667\n",
       "13    18.866667\n",
       "14    18.916667\n",
       "15    20.783333\n",
       "Name: time, dtype: float64"
      ]
     },
     "execution_count": 4,
     "metadata": {},
     "output_type": "execute_result"
    }
   ],
   "source": [
    "time =  pd.to_datetime(df_survey[0])\n",
    "df_survey['time'] = time.dt.hour+time.dt.minute/60\n",
    "df_survey['time']"
   ]
  },
  {
   "cell_type": "code",
   "execution_count": 5,
   "metadata": {},
   "outputs": [
    {
     "data": {
      "text/plain": [
       "0    1\n",
       "1    0\n",
       "2    0\n",
       "3    1\n",
       "4    1\n",
       "Name: mail, dtype: int64"
      ]
     },
     "execution_count": 5,
     "metadata": {},
     "output_type": "execute_result"
    }
   ],
   "source": [
    "mail = df_survey[1].apply(lambda x: x.split(\"@\")[1])\n",
    "df_survey[\"mail\"] = mail.apply(lambda x: 1 if x == \"gmail.com\" else 0)\n",
    "df_survey['mail'].head()"
   ]
  },
  {
   "cell_type": "code",
   "execution_count": 6,
   "metadata": {},
   "outputs": [
    {
     "data": {
      "text/plain": [
       "0     3.0\n",
       "1    10.0\n",
       "2    10.0\n",
       "3    14.0\n",
       "4    13.0\n",
       "Name: number, dtype: float64"
      ]
     },
     "execution_count": 6,
     "metadata": {},
     "output_type": "execute_result"
    }
   ],
   "source": [
    "df_survey[\"number\"] = df_survey[3].replace(\"\", 0).replace(\"Ocho\", 8)\n",
    "df_survey[\"number\"].head()"
   ]
  },
  {
   "cell_type": "code",
   "execution_count": 7,
   "metadata": {},
   "outputs": [],
   "source": [
    "df_states = pd.get_dummies(df_survey[4].replace(\"Estado de México\", \"Edo Mex\").replace(\"Ciudad de México \", \"CDMX\"))"
   ]
  },
  {
   "cell_type": "code",
   "execution_count": 8,
   "metadata": {},
   "outputs": [
    {
     "data": {
      "text/plain": [
       "0    22\n",
       "1    22\n",
       "2    27\n",
       "3    26\n",
       "4    21\n",
       "Name: age, dtype: int64"
      ]
     },
     "execution_count": 8,
     "metadata": {},
     "output_type": "execute_result"
    }
   ],
   "source": [
    "mean = np.mean(df_survey[5][:list(df_survey[5]).index('?')].astype(int))\n",
    "df_survey[\"age\"] = df_survey[5].replace(\"?\", int(mean))\n",
    "df_survey[\"age\"].head()"
   ]
  },
  {
   "cell_type": "code",
   "execution_count": 9,
   "metadata": {},
   "outputs": [
    {
     "data": {
      "text/plain": [
       "0    1\n",
       "1    1\n",
       "2    1\n",
       "3    0\n",
       "4    1\n",
       "Name: gender, dtype: int64"
      ]
     },
     "execution_count": 9,
     "metadata": {},
     "output_type": "execute_result"
    }
   ],
   "source": [
    "df_survey[\"gender\"] = df_survey[6].apply(lambda x: 1 if x == \"Hombre\" else 0)\n",
    "df_survey[\"gender\"].head()"
   ]
  },
  {
   "cell_type": "code",
   "execution_count": 10,
   "metadata": {},
   "outputs": [],
   "source": [
    "music_list = df_survey[7].str.split(\",\")\n",
    "unique_music = set([item.strip().lower() for sublist in music_list.tolist() for item in sublist])"
   ]
  },
  {
   "cell_type": "code",
   "execution_count": 11,
   "metadata": {},
   "outputs": [],
   "source": [
    "music_genres = {}\n",
    "for gen in unique_music:\n",
    "    music_genres[gen] = music_list.apply(lambda x: 1 if gen in [ele.strip().lower() for ele in x] else 0)"
   ]
  },
  {
   "cell_type": "code",
   "execution_count": 12,
   "metadata": {},
   "outputs": [],
   "source": [
    "df_music = pd.DataFrame(music_genres)\n",
    "df_music.columns = [\"mus_\" + x for x in df_music.columns]"
   ]
  },
  {
   "cell_type": "code",
   "execution_count": 13,
   "metadata": {},
   "outputs": [],
   "source": [
    "df_survey = pd.concat([df_survey, df_music], axis=1)"
   ]
  },
  {
   "cell_type": "code",
   "execution_count": 14,
   "metadata": {},
   "outputs": [],
   "source": [
    "pets_list = df_survey[8].str.split(\",\")\n",
    "unique_pets = set([item.strip().lower() for sublist in pets_list.tolist() for item in sublist])\n",
    "pets_dict = {}\n",
    "for pet in unique_pets:\n",
    "    pets_dict[pet] = pets_list.apply(lambda x: 1 if pet in [ele.strip().lower() for ele in x] else 0)\n",
    "\n",
    "df_pet = pd.DataFrame(pets_dict)\n",
    "df_pet.columns = [\"pets_\" + x for x in df_pet.columns]\n",
    "df_survey = pd.concat([df_survey, df_pet], axis=1)"
   ]
  },
  {
   "cell_type": "code",
   "execution_count": 15,
   "metadata": {},
   "outputs": [],
   "source": [
    "shows_list = df_survey[9].str.split(\",\")\n",
    "unique_shows = [item.replace(\"&\", \"y\").strip().lower() if \"&\" in item else item.strip().lower() for sublist in shows_list.tolist() for item in sublist]\n",
    "popular = pd.Series(unique_shows).value_counts().head(7).index.tolist()"
   ]
  },
  {
   "cell_type": "code",
   "execution_count": 16,
   "metadata": {},
   "outputs": [],
   "source": [
    "for i in range(len(popular)):\n",
    "    if i == 0:\n",
    "        pops = shows_list.apply(\n",
    "            lambda x: 1 if popular[i] in [item.replace(\"&\", \"y\").strip().lower() if \"&\" in item else item.strip().lower() for item in x] else 0)\n",
    "    else:\n",
    "        pops_ = shows_list.apply(\n",
    "            lambda x: 1 if popular[i] in [item.replace(\"&\", \"y\").strip().lower() if \"&\" in item else item.strip().lower() for item in x] else 0)\n",
    "\n",
    "        pops += pops_"
   ]
  },
  {
   "cell_type": "code",
   "execution_count": 17,
   "metadata": {},
   "outputs": [],
   "source": [
    "df_survey[\"popular_tv_shows\"] = pops"
   ]
  },
  {
   "cell_type": "code",
   "execution_count": 18,
   "metadata": {},
   "outputs": [
    {
     "data": {
      "text/plain": [
       "0    3\n",
       "1    1\n",
       "2    2\n",
       "3    3\n",
       "4    2\n",
       "Name: extro_scale, dtype: int64"
      ]
     },
     "execution_count": 18,
     "metadata": {},
     "output_type": "execute_result"
    }
   ],
   "source": [
    "df_survey['extro_scale'] = df_survey[10]\n",
    "df_survey['extro_scale'].head()"
   ]
  },
  {
   "cell_type": "code",
   "execution_count": 19,
   "metadata": {},
   "outputs": [],
   "source": [
    "def correct_time(x):\n",
    "    if \":\" in x[:2]:\n",
    "        if int(x[:1]) > 6 and x[-2:] == \"AM\":\n",
    "            return x.replace(\"AM\", \"PM\")\n",
    "    else:\n",
    "        if int(x[:2]) < 12 and x[-2:] == \"AM\":\n",
    "            return x.replace(\"AM\", \"PM\")\n",
    "        elif int(x[:2]) == 12 and x[-2:] == \"PM\":\n",
    "            return x.replace(\"PM\", \"AM\")\n",
    "        \n",
    "    return x"
   ]
  },
  {
   "cell_type": "code",
   "execution_count": 20,
   "metadata": {},
   "outputs": [],
   "source": [
    "df_survey[11] = df_survey[11].apply(correct_time)\n",
    "bedtime = pd.to_datetime(df_survey[11])\n",
    "df_survey['bedtime'] = bedtime.dt.hour+bedtime.dt.minute/60\n"
   ]
  },
  {
   "cell_type": "code",
   "execution_count": 21,
   "metadata": {},
   "outputs": [
    {
     "data": {
      "text/plain": [
       "Index(['Marca temporal', 'Dirección de correo electrónico', 'Nombre',\n",
       "       'Escribe un número',\n",
       "       'En qué estado vivo (departamento/provincia si no estoy en México)',\n",
       "       'Edad', 'Género', 'Me gusta  la música:', 'Animales que me tengo',\n",
       "       'Shows que me gustan 3 separados por coma (ej. Game of Thrones, Naruto, Betty la Fea)',\n",
       "       'Me considero', 'Mi hora de dormir es a las',\n",
       "       'Sé quién es Zaboo Mafoo'],\n",
       "      dtype='object')"
      ]
     },
     "execution_count": 21,
     "metadata": {},
     "output_type": "execute_result"
    }
   ],
   "source": [
    "columns"
   ]
  },
  {
   "cell_type": "code",
   "execution_count": 22,
   "metadata": {},
   "outputs": [
    {
     "data": {
      "text/plain": [
       "0    1\n",
       "1    1\n",
       "2    0\n",
       "3    0\n",
       "4    1\n",
       "Name: zaboo_mafoo, dtype: int64"
      ]
     },
     "execution_count": 22,
     "metadata": {},
     "output_type": "execute_result"
    }
   ],
   "source": [
    "df_survey[\"zaboo_mafoo\"] = df_survey[12].apply(lambda x: 1 if x == \"Si\" else 0)\n",
    "df_survey[\"zaboo_mafoo\"].head()"
   ]
  },
  {
   "cell_type": "markdown",
   "metadata": {},
   "source": [
    "# PCA "
   ]
  },
  {
   "cell_type": "code",
   "execution_count": 23,
   "metadata": {},
   "outputs": [],
   "source": [
    "cont_cols = [x for x in df_survey.columns if type(x) != type(1)]"
   ]
  },
  {
   "cell_type": "code",
   "execution_count": 24,
   "metadata": {},
   "outputs": [],
   "source": [
    "X = df_survey[cont_cols]"
   ]
  },
  {
   "cell_type": "code",
   "execution_count": 25,
   "metadata": {},
   "outputs": [],
   "source": [
    "m_corr = X.corr()"
   ]
  },
  {
   "cell_type": "code",
   "execution_count": 26,
   "metadata": {},
   "outputs": [],
   "source": [
    "\n",
    "# Perfilamiento\n",
    "# estamos agrupando por la media\n",
    "\n",
    "# Tiene la escala más baja de extro_gato\n",
    "# significa que son jovenes, son introvertidos, y que no tienen gatos y les gusta el metal\n",
    "# 0; El de la esquina en las fiestas \n",
    "\n",
    "# es grande, tiene gatosm y es extrovertido\n",
    "# en perro_intenso esta en la mitad de la escala\n",
    "# 1; viva el rock\n",
    "\n",
    "# les encanta el perreo, tienen perros, y otras mascotas\n",
    "# en extro_gato son el segundo grupo más alto \n",
    "# 2; huachiturros\n",
    "\n",
    "# no les gusta el reggaeton, no tienen mascotas de ningun tipo - \n",
    "# son el segundo grupo más bajo por lo cual, puede que tengan o gatos o les guste el metal \n",
    "# 3; Neo hipster\n",
    "#pd.pivot_table(union, index=\"Cluster\")"
   ]
  },
  {
   "cell_type": "code",
   "execution_count": 27,
   "metadata": {},
   "outputs": [
    {
     "data": {
      "text/html": [
       "<div>\n",
       "<style scoped>\n",
       "    .dataframe tbody tr th:only-of-type {\n",
       "        vertical-align: middle;\n",
       "    }\n",
       "\n",
       "    .dataframe tbody tr th {\n",
       "        vertical-align: top;\n",
       "    }\n",
       "\n",
       "    .dataframe thead th {\n",
       "        text-align: right;\n",
       "    }\n",
       "</style>\n",
       "<table border=\"1\" class=\"dataframe\">\n",
       "  <thead>\n",
       "    <tr style=\"text-align: right;\">\n",
       "      <th></th>\n",
       "      <th>time</th>\n",
       "      <th>mail</th>\n",
       "      <th>number</th>\n",
       "      <th>age</th>\n",
       "      <th>gender</th>\n",
       "      <th>mus_clásica</th>\n",
       "      <th>mus_rock</th>\n",
       "      <th>mus_metal</th>\n",
       "      <th>mus_jazz</th>\n",
       "      <th>mus_reggaeton</th>\n",
       "      <th>mus_pop</th>\n",
       "      <th>mus_hip hop</th>\n",
       "      <th>pets_</th>\n",
       "      <th>pets_peces</th>\n",
       "      <th>pets_perros</th>\n",
       "      <th>pets_gatos</th>\n",
       "      <th>pets_otros</th>\n",
       "      <th>popular_tv_shows</th>\n",
       "      <th>extro_scale</th>\n",
       "      <th>bedtime</th>\n",
       "      <th>zaboo_mafoo</th>\n",
       "    </tr>\n",
       "  </thead>\n",
       "  <tbody>\n",
       "    <tr>\n",
       "      <th>time</th>\n",
       "      <td>True</td>\n",
       "      <td>False</td>\n",
       "      <td>False</td>\n",
       "      <td>False</td>\n",
       "      <td>False</td>\n",
       "      <td>False</td>\n",
       "      <td>False</td>\n",
       "      <td>False</td>\n",
       "      <td>True</td>\n",
       "      <td>False</td>\n",
       "      <td>False</td>\n",
       "      <td>False</td>\n",
       "      <td>True</td>\n",
       "      <td>False</td>\n",
       "      <td>False</td>\n",
       "      <td>False</td>\n",
       "      <td>False</td>\n",
       "      <td>False</td>\n",
       "      <td>False</td>\n",
       "      <td>False</td>\n",
       "      <td>False</td>\n",
       "    </tr>\n",
       "    <tr>\n",
       "      <th>mail</th>\n",
       "      <td>False</td>\n",
       "      <td>True</td>\n",
       "      <td>False</td>\n",
       "      <td>False</td>\n",
       "      <td>False</td>\n",
       "      <td>False</td>\n",
       "      <td>False</td>\n",
       "      <td>False</td>\n",
       "      <td>False</td>\n",
       "      <td>True</td>\n",
       "      <td>False</td>\n",
       "      <td>False</td>\n",
       "      <td>False</td>\n",
       "      <td>False</td>\n",
       "      <td>False</td>\n",
       "      <td>False</td>\n",
       "      <td>False</td>\n",
       "      <td>False</td>\n",
       "      <td>False</td>\n",
       "      <td>False</td>\n",
       "      <td>True</td>\n",
       "    </tr>\n",
       "    <tr>\n",
       "      <th>number</th>\n",
       "      <td>False</td>\n",
       "      <td>False</td>\n",
       "      <td>True</td>\n",
       "      <td>False</td>\n",
       "      <td>False</td>\n",
       "      <td>False</td>\n",
       "      <td>False</td>\n",
       "      <td>False</td>\n",
       "      <td>False</td>\n",
       "      <td>False</td>\n",
       "      <td>False</td>\n",
       "      <td>False</td>\n",
       "      <td>False</td>\n",
       "      <td>False</td>\n",
       "      <td>False</td>\n",
       "      <td>False</td>\n",
       "      <td>False</td>\n",
       "      <td>False</td>\n",
       "      <td>False</td>\n",
       "      <td>False</td>\n",
       "      <td>False</td>\n",
       "    </tr>\n",
       "    <tr>\n",
       "      <th>age</th>\n",
       "      <td>False</td>\n",
       "      <td>False</td>\n",
       "      <td>False</td>\n",
       "      <td>True</td>\n",
       "      <td>False</td>\n",
       "      <td>False</td>\n",
       "      <td>False</td>\n",
       "      <td>False</td>\n",
       "      <td>False</td>\n",
       "      <td>False</td>\n",
       "      <td>False</td>\n",
       "      <td>False</td>\n",
       "      <td>False</td>\n",
       "      <td>False</td>\n",
       "      <td>False</td>\n",
       "      <td>True</td>\n",
       "      <td>False</td>\n",
       "      <td>False</td>\n",
       "      <td>True</td>\n",
       "      <td>False</td>\n",
       "      <td>False</td>\n",
       "    </tr>\n",
       "    <tr>\n",
       "      <th>gender</th>\n",
       "      <td>False</td>\n",
       "      <td>False</td>\n",
       "      <td>False</td>\n",
       "      <td>False</td>\n",
       "      <td>True</td>\n",
       "      <td>False</td>\n",
       "      <td>False</td>\n",
       "      <td>False</td>\n",
       "      <td>True</td>\n",
       "      <td>False</td>\n",
       "      <td>False</td>\n",
       "      <td>False</td>\n",
       "      <td>False</td>\n",
       "      <td>False</td>\n",
       "      <td>False</td>\n",
       "      <td>False</td>\n",
       "      <td>False</td>\n",
       "      <td>False</td>\n",
       "      <td>False</td>\n",
       "      <td>False</td>\n",
       "      <td>False</td>\n",
       "    </tr>\n",
       "    <tr>\n",
       "      <th>mus_clásica</th>\n",
       "      <td>False</td>\n",
       "      <td>False</td>\n",
       "      <td>False</td>\n",
       "      <td>False</td>\n",
       "      <td>False</td>\n",
       "      <td>True</td>\n",
       "      <td>True</td>\n",
       "      <td>False</td>\n",
       "      <td>True</td>\n",
       "      <td>False</td>\n",
       "      <td>False</td>\n",
       "      <td>False</td>\n",
       "      <td>False</td>\n",
       "      <td>False</td>\n",
       "      <td>False</td>\n",
       "      <td>True</td>\n",
       "      <td>False</td>\n",
       "      <td>False</td>\n",
       "      <td>True</td>\n",
       "      <td>False</td>\n",
       "      <td>True</td>\n",
       "    </tr>\n",
       "    <tr>\n",
       "      <th>mus_rock</th>\n",
       "      <td>False</td>\n",
       "      <td>False</td>\n",
       "      <td>False</td>\n",
       "      <td>False</td>\n",
       "      <td>False</td>\n",
       "      <td>True</td>\n",
       "      <td>True</td>\n",
       "      <td>True</td>\n",
       "      <td>False</td>\n",
       "      <td>False</td>\n",
       "      <td>False</td>\n",
       "      <td>False</td>\n",
       "      <td>False</td>\n",
       "      <td>False</td>\n",
       "      <td>False</td>\n",
       "      <td>True</td>\n",
       "      <td>False</td>\n",
       "      <td>True</td>\n",
       "      <td>False</td>\n",
       "      <td>False</td>\n",
       "      <td>False</td>\n",
       "    </tr>\n",
       "    <tr>\n",
       "      <th>mus_metal</th>\n",
       "      <td>False</td>\n",
       "      <td>False</td>\n",
       "      <td>False</td>\n",
       "      <td>False</td>\n",
       "      <td>False</td>\n",
       "      <td>False</td>\n",
       "      <td>True</td>\n",
       "      <td>True</td>\n",
       "      <td>False</td>\n",
       "      <td>False</td>\n",
       "      <td>False</td>\n",
       "      <td>False</td>\n",
       "      <td>False</td>\n",
       "      <td>False</td>\n",
       "      <td>False</td>\n",
       "      <td>True</td>\n",
       "      <td>True</td>\n",
       "      <td>False</td>\n",
       "      <td>False</td>\n",
       "      <td>False</td>\n",
       "      <td>False</td>\n",
       "    </tr>\n",
       "    <tr>\n",
       "      <th>mus_jazz</th>\n",
       "      <td>True</td>\n",
       "      <td>False</td>\n",
       "      <td>False</td>\n",
       "      <td>False</td>\n",
       "      <td>True</td>\n",
       "      <td>True</td>\n",
       "      <td>False</td>\n",
       "      <td>False</td>\n",
       "      <td>True</td>\n",
       "      <td>False</td>\n",
       "      <td>False</td>\n",
       "      <td>False</td>\n",
       "      <td>False</td>\n",
       "      <td>False</td>\n",
       "      <td>False</td>\n",
       "      <td>False</td>\n",
       "      <td>False</td>\n",
       "      <td>False</td>\n",
       "      <td>False</td>\n",
       "      <td>False</td>\n",
       "      <td>False</td>\n",
       "    </tr>\n",
       "    <tr>\n",
       "      <th>mus_reggaeton</th>\n",
       "      <td>False</td>\n",
       "      <td>True</td>\n",
       "      <td>False</td>\n",
       "      <td>False</td>\n",
       "      <td>False</td>\n",
       "      <td>False</td>\n",
       "      <td>False</td>\n",
       "      <td>False</td>\n",
       "      <td>False</td>\n",
       "      <td>True</td>\n",
       "      <td>False</td>\n",
       "      <td>False</td>\n",
       "      <td>False</td>\n",
       "      <td>False</td>\n",
       "      <td>True</td>\n",
       "      <td>False</td>\n",
       "      <td>True</td>\n",
       "      <td>True</td>\n",
       "      <td>False</td>\n",
       "      <td>False</td>\n",
       "      <td>False</td>\n",
       "    </tr>\n",
       "    <tr>\n",
       "      <th>mus_pop</th>\n",
       "      <td>False</td>\n",
       "      <td>False</td>\n",
       "      <td>False</td>\n",
       "      <td>False</td>\n",
       "      <td>False</td>\n",
       "      <td>False</td>\n",
       "      <td>False</td>\n",
       "      <td>False</td>\n",
       "      <td>False</td>\n",
       "      <td>False</td>\n",
       "      <td>True</td>\n",
       "      <td>False</td>\n",
       "      <td>False</td>\n",
       "      <td>False</td>\n",
       "      <td>False</td>\n",
       "      <td>False</td>\n",
       "      <td>False</td>\n",
       "      <td>False</td>\n",
       "      <td>True</td>\n",
       "      <td>True</td>\n",
       "      <td>False</td>\n",
       "    </tr>\n",
       "    <tr>\n",
       "      <th>mus_hip hop</th>\n",
       "      <td>False</td>\n",
       "      <td>False</td>\n",
       "      <td>False</td>\n",
       "      <td>False</td>\n",
       "      <td>False</td>\n",
       "      <td>False</td>\n",
       "      <td>False</td>\n",
       "      <td>False</td>\n",
       "      <td>False</td>\n",
       "      <td>False</td>\n",
       "      <td>False</td>\n",
       "      <td>True</td>\n",
       "      <td>False</td>\n",
       "      <td>False</td>\n",
       "      <td>False</td>\n",
       "      <td>True</td>\n",
       "      <td>False</td>\n",
       "      <td>False</td>\n",
       "      <td>False</td>\n",
       "      <td>False</td>\n",
       "      <td>False</td>\n",
       "    </tr>\n",
       "    <tr>\n",
       "      <th>pets_</th>\n",
       "      <td>True</td>\n",
       "      <td>False</td>\n",
       "      <td>False</td>\n",
       "      <td>False</td>\n",
       "      <td>False</td>\n",
       "      <td>False</td>\n",
       "      <td>False</td>\n",
       "      <td>False</td>\n",
       "      <td>False</td>\n",
       "      <td>False</td>\n",
       "      <td>False</td>\n",
       "      <td>False</td>\n",
       "      <td>True</td>\n",
       "      <td>False</td>\n",
       "      <td>False</td>\n",
       "      <td>False</td>\n",
       "      <td>False</td>\n",
       "      <td>False</td>\n",
       "      <td>False</td>\n",
       "      <td>False</td>\n",
       "      <td>False</td>\n",
       "    </tr>\n",
       "    <tr>\n",
       "      <th>pets_peces</th>\n",
       "      <td>False</td>\n",
       "      <td>False</td>\n",
       "      <td>False</td>\n",
       "      <td>False</td>\n",
       "      <td>False</td>\n",
       "      <td>False</td>\n",
       "      <td>False</td>\n",
       "      <td>False</td>\n",
       "      <td>False</td>\n",
       "      <td>False</td>\n",
       "      <td>False</td>\n",
       "      <td>False</td>\n",
       "      <td>False</td>\n",
       "      <td>True</td>\n",
       "      <td>False</td>\n",
       "      <td>False</td>\n",
       "      <td>False</td>\n",
       "      <td>True</td>\n",
       "      <td>False</td>\n",
       "      <td>False</td>\n",
       "      <td>False</td>\n",
       "    </tr>\n",
       "    <tr>\n",
       "      <th>pets_perros</th>\n",
       "      <td>False</td>\n",
       "      <td>False</td>\n",
       "      <td>False</td>\n",
       "      <td>False</td>\n",
       "      <td>False</td>\n",
       "      <td>False</td>\n",
       "      <td>False</td>\n",
       "      <td>False</td>\n",
       "      <td>False</td>\n",
       "      <td>True</td>\n",
       "      <td>False</td>\n",
       "      <td>False</td>\n",
       "      <td>False</td>\n",
       "      <td>False</td>\n",
       "      <td>True</td>\n",
       "      <td>False</td>\n",
       "      <td>False</td>\n",
       "      <td>True</td>\n",
       "      <td>False</td>\n",
       "      <td>False</td>\n",
       "      <td>False</td>\n",
       "    </tr>\n",
       "    <tr>\n",
       "      <th>pets_gatos</th>\n",
       "      <td>False</td>\n",
       "      <td>False</td>\n",
       "      <td>False</td>\n",
       "      <td>True</td>\n",
       "      <td>False</td>\n",
       "      <td>True</td>\n",
       "      <td>True</td>\n",
       "      <td>True</td>\n",
       "      <td>False</td>\n",
       "      <td>False</td>\n",
       "      <td>False</td>\n",
       "      <td>True</td>\n",
       "      <td>False</td>\n",
       "      <td>False</td>\n",
       "      <td>False</td>\n",
       "      <td>True</td>\n",
       "      <td>False</td>\n",
       "      <td>False</td>\n",
       "      <td>False</td>\n",
       "      <td>False</td>\n",
       "      <td>False</td>\n",
       "    </tr>\n",
       "    <tr>\n",
       "      <th>pets_otros</th>\n",
       "      <td>False</td>\n",
       "      <td>False</td>\n",
       "      <td>False</td>\n",
       "      <td>False</td>\n",
       "      <td>False</td>\n",
       "      <td>False</td>\n",
       "      <td>False</td>\n",
       "      <td>True</td>\n",
       "      <td>False</td>\n",
       "      <td>True</td>\n",
       "      <td>False</td>\n",
       "      <td>False</td>\n",
       "      <td>False</td>\n",
       "      <td>False</td>\n",
       "      <td>False</td>\n",
       "      <td>False</td>\n",
       "      <td>True</td>\n",
       "      <td>False</td>\n",
       "      <td>False</td>\n",
       "      <td>False</td>\n",
       "      <td>False</td>\n",
       "    </tr>\n",
       "    <tr>\n",
       "      <th>popular_tv_shows</th>\n",
       "      <td>False</td>\n",
       "      <td>False</td>\n",
       "      <td>False</td>\n",
       "      <td>False</td>\n",
       "      <td>False</td>\n",
       "      <td>False</td>\n",
       "      <td>True</td>\n",
       "      <td>False</td>\n",
       "      <td>False</td>\n",
       "      <td>True</td>\n",
       "      <td>False</td>\n",
       "      <td>False</td>\n",
       "      <td>False</td>\n",
       "      <td>True</td>\n",
       "      <td>True</td>\n",
       "      <td>False</td>\n",
       "      <td>False</td>\n",
       "      <td>True</td>\n",
       "      <td>False</td>\n",
       "      <td>False</td>\n",
       "      <td>False</td>\n",
       "    </tr>\n",
       "    <tr>\n",
       "      <th>extro_scale</th>\n",
       "      <td>False</td>\n",
       "      <td>False</td>\n",
       "      <td>False</td>\n",
       "      <td>True</td>\n",
       "      <td>False</td>\n",
       "      <td>True</td>\n",
       "      <td>False</td>\n",
       "      <td>False</td>\n",
       "      <td>False</td>\n",
       "      <td>False</td>\n",
       "      <td>True</td>\n",
       "      <td>False</td>\n",
       "      <td>False</td>\n",
       "      <td>False</td>\n",
       "      <td>False</td>\n",
       "      <td>False</td>\n",
       "      <td>False</td>\n",
       "      <td>False</td>\n",
       "      <td>True</td>\n",
       "      <td>False</td>\n",
       "      <td>False</td>\n",
       "    </tr>\n",
       "    <tr>\n",
       "      <th>bedtime</th>\n",
       "      <td>False</td>\n",
       "      <td>False</td>\n",
       "      <td>False</td>\n",
       "      <td>False</td>\n",
       "      <td>False</td>\n",
       "      <td>False</td>\n",
       "      <td>False</td>\n",
       "      <td>False</td>\n",
       "      <td>False</td>\n",
       "      <td>False</td>\n",
       "      <td>True</td>\n",
       "      <td>False</td>\n",
       "      <td>False</td>\n",
       "      <td>False</td>\n",
       "      <td>False</td>\n",
       "      <td>False</td>\n",
       "      <td>False</td>\n",
       "      <td>False</td>\n",
       "      <td>False</td>\n",
       "      <td>True</td>\n",
       "      <td>False</td>\n",
       "    </tr>\n",
       "    <tr>\n",
       "      <th>zaboo_mafoo</th>\n",
       "      <td>False</td>\n",
       "      <td>True</td>\n",
       "      <td>False</td>\n",
       "      <td>False</td>\n",
       "      <td>False</td>\n",
       "      <td>True</td>\n",
       "      <td>False</td>\n",
       "      <td>False</td>\n",
       "      <td>False</td>\n",
       "      <td>False</td>\n",
       "      <td>False</td>\n",
       "      <td>False</td>\n",
       "      <td>False</td>\n",
       "      <td>False</td>\n",
       "      <td>False</td>\n",
       "      <td>False</td>\n",
       "      <td>False</td>\n",
       "      <td>False</td>\n",
       "      <td>False</td>\n",
       "      <td>False</td>\n",
       "      <td>True</td>\n",
       "    </tr>\n",
       "  </tbody>\n",
       "</table>\n",
       "</div>"
      ],
      "text/plain": [
       "                   time   mail  number    age  gender  mus_clásica  mus_rock  \\\n",
       "time               True  False   False  False   False        False     False   \n",
       "mail              False   True   False  False   False        False     False   \n",
       "number            False  False    True  False   False        False     False   \n",
       "age               False  False   False   True   False        False     False   \n",
       "gender            False  False   False  False    True        False     False   \n",
       "mus_clásica       False  False   False  False   False         True      True   \n",
       "mus_rock          False  False   False  False   False         True      True   \n",
       "mus_metal         False  False   False  False   False        False      True   \n",
       "mus_jazz           True  False   False  False    True         True     False   \n",
       "mus_reggaeton     False   True   False  False   False        False     False   \n",
       "mus_pop           False  False   False  False   False        False     False   \n",
       "mus_hip hop       False  False   False  False   False        False     False   \n",
       "pets_              True  False   False  False   False        False     False   \n",
       "pets_peces        False  False   False  False   False        False     False   \n",
       "pets_perros       False  False   False  False   False        False     False   \n",
       "pets_gatos        False  False   False   True   False         True      True   \n",
       "pets_otros        False  False   False  False   False        False     False   \n",
       "popular_tv_shows  False  False   False  False   False        False      True   \n",
       "extro_scale       False  False   False   True   False         True     False   \n",
       "bedtime           False  False   False  False   False        False     False   \n",
       "zaboo_mafoo       False   True   False  False   False         True     False   \n",
       "\n",
       "                  mus_metal  mus_jazz  mus_reggaeton  mus_pop  mus_hip hop  \\\n",
       "time                  False      True          False    False        False   \n",
       "mail                  False     False           True    False        False   \n",
       "number                False     False          False    False        False   \n",
       "age                   False     False          False    False        False   \n",
       "gender                False      True          False    False        False   \n",
       "mus_clásica           False      True          False    False        False   \n",
       "mus_rock               True     False          False    False        False   \n",
       "mus_metal              True     False          False    False        False   \n",
       "mus_jazz              False      True          False    False        False   \n",
       "mus_reggaeton         False     False           True    False        False   \n",
       "mus_pop               False     False          False     True        False   \n",
       "mus_hip hop           False     False          False    False         True   \n",
       "pets_                 False     False          False    False        False   \n",
       "pets_peces            False     False          False    False        False   \n",
       "pets_perros           False     False           True    False        False   \n",
       "pets_gatos             True     False          False    False         True   \n",
       "pets_otros             True     False           True    False        False   \n",
       "popular_tv_shows      False     False           True    False        False   \n",
       "extro_scale           False     False          False     True        False   \n",
       "bedtime               False     False          False     True        False   \n",
       "zaboo_mafoo           False     False          False    False        False   \n",
       "\n",
       "                  pets_  pets_peces  pets_perros  pets_gatos  pets_otros  \\\n",
       "time               True       False        False       False       False   \n",
       "mail              False       False        False       False       False   \n",
       "number            False       False        False       False       False   \n",
       "age               False       False        False        True       False   \n",
       "gender            False       False        False       False       False   \n",
       "mus_clásica       False       False        False        True       False   \n",
       "mus_rock          False       False        False        True       False   \n",
       "mus_metal         False       False        False        True        True   \n",
       "mus_jazz          False       False        False       False       False   \n",
       "mus_reggaeton     False       False         True       False        True   \n",
       "mus_pop           False       False        False       False       False   \n",
       "mus_hip hop       False       False        False        True       False   \n",
       "pets_              True       False        False       False       False   \n",
       "pets_peces        False        True        False       False       False   \n",
       "pets_perros       False       False         True       False       False   \n",
       "pets_gatos        False       False        False        True       False   \n",
       "pets_otros        False       False        False       False        True   \n",
       "popular_tv_shows  False        True         True       False       False   \n",
       "extro_scale       False       False        False       False       False   \n",
       "bedtime           False       False        False       False       False   \n",
       "zaboo_mafoo       False       False        False       False       False   \n",
       "\n",
       "                  popular_tv_shows  extro_scale  bedtime  zaboo_mafoo  \n",
       "time                         False        False    False        False  \n",
       "mail                         False        False    False         True  \n",
       "number                       False        False    False        False  \n",
       "age                          False         True    False        False  \n",
       "gender                       False        False    False        False  \n",
       "mus_clásica                  False         True    False         True  \n",
       "mus_rock                      True        False    False        False  \n",
       "mus_metal                    False        False    False        False  \n",
       "mus_jazz                     False        False    False        False  \n",
       "mus_reggaeton                 True        False    False        False  \n",
       "mus_pop                      False         True     True        False  \n",
       "mus_hip hop                  False        False    False        False  \n",
       "pets_                        False        False    False        False  \n",
       "pets_peces                    True        False    False        False  \n",
       "pets_perros                   True        False    False        False  \n",
       "pets_gatos                   False        False    False        False  \n",
       "pets_otros                   False        False    False        False  \n",
       "popular_tv_shows              True        False    False        False  \n",
       "extro_scale                  False         True    False        False  \n",
       "bedtime                      False        False     True        False  \n",
       "zaboo_mafoo                  False        False    False         True  "
      ]
     },
     "execution_count": 27,
     "metadata": {},
     "output_type": "execute_result"
    }
   ],
   "source": [
    "# ['age', 'pets_gatos', 'extro_scale', 'mus_clásica', 'mus_pop', 'bedtime']\n",
    "\n",
    "# ['mus_reggaeton', 'zaboo_mafoo', 'pets_perros', 'pets_otros', 'popular_tv_shows', 'mus_rock']\n",
    "\n",
    "m_corr > 0.3"
   ]
  },
  {
   "cell_type": "code",
   "execution_count": 28,
   "metadata": {},
   "outputs": [],
   "source": [
    "X_1 = X.loc[:,['age', 'pets_gatos', 'extro_scale', 'mus_clásica', 'mus_pop', 'bedtime']]\n",
    "X_2 = X.loc[:,['mus_reggaeton', 'zaboo_mafoo', 'pets_perros', 'pets_otros', 'popular_tv_shows', 'mus_rock']]"
   ]
  },
  {
   "cell_type": "code",
   "execution_count": 29,
   "metadata": {},
   "outputs": [],
   "source": [
    "pca_1 = PCA(n_components=1)\n",
    "pca_1.fit(X_1)\n",
    "X_1[\"X\"] = (pca_1.fit_transform(X_1).reshape(1,16)[0])"
   ]
  },
  {
   "cell_type": "code",
   "execution_count": 30,
   "metadata": {},
   "outputs": [],
   "source": [
    "# el valor mas alto; tiene una edad grande, tiene gatos, es muy extrovertido, le gusta la musica clásica y le gusta el pop, se duermen despues de las 12\n",
    "# el valor más bajo; tiene una edad joven, no tiene gatos, es poco introvertido, no le gusta la musica clásica, le gusta el pop, se duermen antes de las 12\n",
    "\n",
    "#X_1.sort_values(by=\"X\", ascending=False)\n",
    "X_1.rename(columns={\"X\": \"es_parte_de_crecer_timmy\"}, inplace=True)"
   ]
  },
  {
   "cell_type": "code",
   "execution_count": 31,
   "metadata": {},
   "outputs": [],
   "source": [
    "pca_2 = PCA(n_components=1)\n",
    "pca_2.fit(X_2)\n",
    "X_2[\"X\"] = (pca_2.fit_transform(X_2).reshape(1,16)[0])"
   ]
  },
  {
   "cell_type": "code",
   "execution_count": 32,
   "metadata": {},
   "outputs": [],
   "source": [
    "# el valor más alto; le gusta el reggaeton, no conoce a zaboo, tiene perros, no tiene otras mascotas, a visto 3 shows populares, le gusta el rock\n",
    "# el valor más bajo; no le gusta el reggaeton, no conoce a zaboo, no tiene perros ni otras mascotas, no a vistos shows populares, no le gusta el rock\n",
    "#X_2.sort_values(by=\"X\", ascending=False)\n",
    "X_2.rename(columns={\"X\": \"personas_fiesteras\"}, inplace=True)"
   ]
  },
  {
   "cell_type": "code",
   "execution_count": 33,
   "metadata": {},
   "outputs": [],
   "source": [
    "union = pd.concat([X_1, X_2], axis=1)[[\"es_parte_de_crecer_timmy\", \"personas_fiesteras\"]]"
   ]
  },
  {
   "cell_type": "code",
   "execution_count": 34,
   "metadata": {},
   "outputs": [
    {
     "data": {
      "text/plain": [
       "<AxesSubplot: xlabel='personas_fiesteras', ylabel='es_parte_de_crecer_timmy'>"
      ]
     },
     "execution_count": 34,
     "metadata": {},
     "output_type": "execute_result"
    },
    {
     "data": {
      "image/png": "[encoded data removed]",
      "text/plain": [
       "<Figure size 640x480 with 1 Axes>"
      ]
     },
     "metadata": {},
     "output_type": "display_data"
    }
   ],
   "source": [
    "sns.scatterplot(data=union, x='personas_fiesteras', y='es_parte_de_crecer_timmy')"
   ]
  },
  {
   "cell_type": "markdown",
   "metadata": {},
   "source": [
    "# Estandarización de los valores"
   ]
  },
  {
   "cell_type": "code",
   "execution_count": 35,
   "metadata": {},
   "outputs": [],
   "source": [
    "scaler = StandardScaler()"
   ]
  },
  {
   "cell_type": "code",
   "execution_count": 36,
   "metadata": {},
   "outputs": [],
   "source": [
    "union_s = scaler.fit_transform(union)"
   ]
  },
  {
   "cell_type": "markdown",
   "metadata": {},
   "source": [
    "# Modelo"
   ]
  },
  {
   "cell_type": "markdown",
   "metadata": {},
   "source": [
    "### ElBow Method"
   ]
  },
  {
   "cell_type": "code",
   "execution_count": 37,
   "metadata": {},
   "outputs": [
    {
     "data": {
      "image/png": "[encoded data removed]",
      "text/plain": [
       "<Figure size 640x480 with 1 Axes>"
      ]
     },
     "metadata": {},
     "output_type": "display_data"
    }
   ],
   "source": [
    "inertias = {k: KMeans(n_clusters=k).fit(union_s).inertia_ for k in range(1, 10)}\n",
    "\n",
    "plt.plot(list(inertias.keys()), \n",
    "        list(inertias.values()), '-o')\n",
    "plt.xlabel('Número de clusters, k')\n",
    "plt.ylabel('Inertia')\n",
    "plt.xticks(list(inertias.keys()))\n",
    "plt.show()"
   ]
  },
  {
   "cell_type": "markdown",
   "metadata": {},
   "source": [
    "como podemos observar en la gráfica podríamos intuir que el mejor número de cluster es 6, ya que la inercia disminuida en los siguientes cluster es muy pequeña en comparación de los anteriores clusters.\n",
    "\n",
    "para comprobar si es correcto lo anterior dicho y como contamos con pocos datos podemos hacer uso del silhouette method. "
   ]
  },
  {
   "cell_type": "markdown",
   "metadata": {},
   "source": [
    "### Silhouette Method"
   ]
  },
  {
   "cell_type": "code",
   "execution_count": 38,
   "metadata": {},
   "outputs": [
    {
     "data": {
      "image/png": "[encoded data removed]",
      "text/plain": [
       "<Figure size 640x480 with 1 Axes>"
      ]
     },
     "metadata": {},
     "output_type": "display_data"
    }
   ],
   "source": [
    "silhouettes = {k: silhouette_score(union_s, KMeans(n_clusters=k).fit_predict(union_s)) for k in range(2, 10)}\n",
    "\n",
    "plt.plot(list(silhouettes.keys()), \n",
    "        list(silhouettes.values()), '-o')\n",
    "plt.xlabel('Número de clusters, k')\n",
    "plt.ylabel('Silueta')\n",
    "plt.xticks(list(silhouettes.keys()))\n",
    "plt.show()"
   ]
  },
  {
   "cell_type": "markdown",
   "metadata": {},
   "source": [
    "como podemos observar la media del silhueta score que más se acerca a 1 pertenece al cluster 6, por lo cual lo anteriormente propuesto es correcto y **Ese sera el número utilizado en nuestro modelo**"
   ]
  },
  {
   "cell_type": "markdown",
   "metadata": {},
   "source": [
    "### Modelo con la mejor k"
   ]
  },
  {
   "cell_type": "code",
   "execution_count": 39,
   "metadata": {},
   "outputs": [
    {
     "data": {
      "text/html": [
       "<style>#sk-container-id-1 {color: black;background-color: white;}#sk-container-id-1 pre{padding: 0;}#sk-container-id-1 div.sk-toggleable {background-color: white;}#sk-container-id-1 label.sk-toggleable__label {cursor: pointer;display: block;width: 100%;margin-bottom: 0;padding: 0.3em;box-sizing: border-box;text-align: center;}#sk-container-id-1 label.sk-toggleable__label-arrow:before {content: \"▸\";float: left;margin-right: 0.25em;color: #696969;}#sk-container-id-1 label.sk-toggleable__label-arrow:hover:before {color: black;}#sk-container-id-1 div.sk-estimator:hover label.sk-toggleable__label-arrow:before {color: black;}#sk-container-id-1 div.sk-toggleable__content {max-height: 0;max-width: 0;overflow: hidden;text-align: left;background-color: #f0f8ff;}#sk-container-id-1 div.sk-toggleable__content pre {margin: 0.2em;color: black;border-radius: 0.25em;background-color: #f0f8ff;}#sk-container-id-1 input.sk-toggleable__control:checked~div.sk-toggleable__content {max-height: 200px;max-width: 100%;overflow: auto;}#sk-container-id-1 input.sk-toggleable__control:checked~label.sk-toggleable__label-arrow:before {content: \"▾\";}#sk-container-id-1 div.sk-estimator input.sk-toggleable__control:checked~label.sk-toggleable__label {background-color: #d4ebff;}#sk-container-id-1 div.sk-label input.sk-toggleable__control:checked~label.sk-toggleable__label {background-color: #d4ebff;}#sk-container-id-1 input.sk-hidden--visually {border: 0;clip: rect(1px 1px 1px 1px);clip: rect(1px, 1px, 1px, 1px);height: 1px;margin: -1px;overflow: hidden;padding: 0;position: absolute;width: 1px;}#sk-container-id-1 div.sk-estimator {font-family: monospace;background-color: #f0f8ff;border: 1px dotted black;border-radius: 0.25em;box-sizing: border-box;margin-bottom: 0.5em;}#sk-container-id-1 div.sk-estimator:hover {background-color: #d4ebff;}#sk-container-id-1 div.sk-parallel-item::after {content: \"\";width: 100%;border-bottom: 1px solid gray;flex-grow: 1;}#sk-container-id-1 div.sk-label:hover label.sk-toggleable__label {background-color: #d4ebff;}#sk-container-id-1 div.sk-serial::before {content: \"\";position: absolute;border-left: 1px solid gray;box-sizing: border-box;top: 0;bottom: 0;left: 50%;z-index: 0;}#sk-container-id-1 div.sk-serial {display: flex;flex-direction: column;align-items: center;background-color: white;padding-right: 0.2em;padding-left: 0.2em;position: relative;}#sk-container-id-1 div.sk-item {position: relative;z-index: 1;}#sk-container-id-1 div.sk-parallel {display: flex;align-items: stretch;justify-content: center;background-color: white;position: relative;}#sk-container-id-1 div.sk-item::before, #sk-container-id-1 div.sk-parallel-item::before {content: \"\";position: absolute;border-left: 1px solid gray;box-sizing: border-box;top: 0;bottom: 0;left: 50%;z-index: -1;}#sk-container-id-1 div.sk-parallel-item {display: flex;flex-direction: column;z-index: 1;position: relative;background-color: white;}#sk-container-id-1 div.sk-parallel-item:first-child::after {align-self: flex-end;width: 50%;}#sk-container-id-1 div.sk-parallel-item:last-child::after {align-self: flex-start;width: 50%;}#sk-container-id-1 div.sk-parallel-item:only-child::after {width: 0;}#sk-container-id-1 div.sk-dashed-wrapped {border: 1px dashed gray;margin: 0 0.4em 0.5em 0.4em;box-sizing: border-box;padding-bottom: 0.4em;background-color: white;}#sk-container-id-1 div.sk-label label {font-family: monospace;font-weight: bold;display: inline-block;line-height: 1.2em;}#sk-container-id-1 div.sk-label-container {text-align: center;}#sk-container-id-1 div.sk-container {/* jupyter's `normalize.less` sets `[hidden] { display: none; }` but bootstrap.min.css set `[hidden] { display: none !important; }` so we also need the `!important` here to be able to override the default hidden behavior on the sphinx rendered scikit-learn.org. See: https://github.com/scikit-learn/scikit-learn/issues/21755 */display: inline-block !important;position: relative;}#sk-container-id-1 div.sk-text-repr-fallback {display: none;}</style><div id=\"sk-container-id-1\" class=\"sk-top-container\"><div class=\"sk-text-repr-fallback\"><pre>KMeans(n_clusters=6)</pre><b>In a Jupyter environment, please rerun this cell to show the HTML representation or trust the notebook. <br />On GitHub, the HTML representation is unable to render, please try loading this page with nbviewer.org.</b></div><div class=\"sk-container\" hidden><div class=\"sk-item\"><div class=\"sk-estimator sk-toggleable\"><input class=\"sk-toggleable__control sk-hidden--visually\" id=\"sk-estimator-id-1\" type=\"checkbox\" checked><label for=\"sk-estimator-id-1\" class=\"sk-toggleable__label sk-toggleable__label-arrow\">KMeans</label><div class=\"sk-toggleable__content\"><pre>KMeans(n_clusters=6)</pre></div></div></div></div></div>"
      ],
      "text/plain": [
       "KMeans(n_clusters=6)"
      ]
     },
     "execution_count": 39,
     "metadata": {},
     "output_type": "execute_result"
    }
   ],
   "source": [
    "model = KMeans(n_clusters=6)\n",
    "model.fit(union_s)"
   ]
  },
  {
   "cell_type": "code",
   "execution_count": 40,
   "metadata": {},
   "outputs": [
    {
     "data": {
      "text/plain": [
       "<AxesSubplot: xlabel='personas_fiesteras', ylabel='es_parte_de_crecer_timmy'>"
      ]
     },
     "execution_count": 40,
     "metadata": {},
     "output_type": "execute_result"
    },
    {
     "data": {
      "image/png": "[encoded data removed]",
      "text/plain": [
       "<Figure size 640x480 with 1 Axes>"
      ]
     },
     "metadata": {},
     "output_type": "display_data"
    }
   ],
   "source": [
    "union[\"Cluster\"] = model.labels_\n",
    "sns.scatterplot(data=union, x='personas_fiesteras', y='es_parte_de_crecer_timmy', hue=\"Cluster\")"
   ]
  },
  {
   "cell_type": "markdown",
   "metadata": {},
   "source": [
    "# Perfilamiento"
   ]
  },
  {
   "cell_type": "code",
   "execution_count": 41,
   "metadata": {},
   "outputs": [],
   "source": [
    "# es parte de crecer timmy\n",
    "# el valor mas alto; tiene una edad grande, tiene gatos, es muy extrovertido, le gusta la musica clásica y le gusta el pop, se duermen despues de las 12\n",
    "# el valor más bajo; tiene una edad joven, no tiene gatos, es poco introvertido, no le gusta la musica clásica, le gusta el pop, se duermen antes de las 12\n",
    "\n",
    "# personas_fiesteras\n",
    "# el valor más alto; le gusta el reggaeton, no conoce a zaboo, tiene perros, no tiene otras mascotas, a visto 3 shows populares, le gusta el rock\n",
    "# el valor más bajo; no le gusta el reggaeton, no conoce a zaboo, no tiene perros ni otras mascotas, no a vistos shows populares, no le gusta el rock\n"
   ]
  },
  {
   "cell_type": "code",
   "execution_count": 42,
   "metadata": {},
   "outputs": [
    {
     "data": {
      "text/html": [
       "<div>\n",
       "<style scoped>\n",
       "    .dataframe tbody tr th:only-of-type {\n",
       "        vertical-align: middle;\n",
       "    }\n",
       "\n",
       "    .dataframe tbody tr th {\n",
       "        vertical-align: top;\n",
       "    }\n",
       "\n",
       "    .dataframe thead th {\n",
       "        text-align: right;\n",
       "    }\n",
       "</style>\n",
       "<table border=\"1\" class=\"dataframe\">\n",
       "  <thead>\n",
       "    <tr style=\"text-align: right;\">\n",
       "      <th></th>\n",
       "      <th>es_parte_de_crecer_timmy</th>\n",
       "      <th>personas_fiesteras</th>\n",
       "    </tr>\n",
       "    <tr>\n",
       "      <th>Cluster</th>\n",
       "      <th></th>\n",
       "      <th></th>\n",
       "    </tr>\n",
       "  </thead>\n",
       "  <tbody>\n",
       "    <tr>\n",
       "      <th>5</th>\n",
       "      <td>-7.697749</td>\n",
       "      <td>0.233354</td>\n",
       "    </tr>\n",
       "    <tr>\n",
       "      <th>3</th>\n",
       "      <td>-7.070970</td>\n",
       "      <td>-0.466896</td>\n",
       "    </tr>\n",
       "    <tr>\n",
       "      <th>0</th>\n",
       "      <td>-6.913930</td>\n",
       "      <td>1.085859</td>\n",
       "    </tr>\n",
       "    <tr>\n",
       "      <th>1</th>\n",
       "      <td>-6.448064</td>\n",
       "      <td>-1.252360</td>\n",
       "    </tr>\n",
       "    <tr>\n",
       "      <th>4</th>\n",
       "      <td>15.265741</td>\n",
       "      <td>1.996785</td>\n",
       "    </tr>\n",
       "    <tr>\n",
       "      <th>2</th>\n",
       "      <td>15.396423</td>\n",
       "      <td>0.247363</td>\n",
       "    </tr>\n",
       "  </tbody>\n",
       "</table>\n",
       "</div>"
      ],
      "text/plain": [
       "         es_parte_de_crecer_timmy  personas_fiesteras\n",
       "Cluster                                              \n",
       "5                       -7.697749            0.233354\n",
       "3                       -7.070970           -0.466896\n",
       "0                       -6.913930            1.085859\n",
       "1                       -6.448064           -1.252360\n",
       "4                       15.265741            1.996785\n",
       "2                       15.396423            0.247363"
      ]
     },
     "execution_count": 42,
     "metadata": {},
     "output_type": "execute_result"
    }
   ],
   "source": [
    "# el tercer grupo más bajo de es parte de crecer timmy y el segundo más alto en personas fiesteras\n",
    "# 0 La generación z\n",
    "\n",
    "# el tercero más alto de es parte de crecer timmy y el más bajo de personas fiesteras\n",
    "# 1 los milennials\n",
    "\n",
    "# el más alto de es parte de crecer timmy y el tercero más alto de personas fiesteras\n",
    "# 2 los chavo-rucos\n",
    "\n",
    "# el segundo más bajo de es parte de crecer timmy y el segundo más bajo de personas fiesteras\n",
    "# 3 Los que bailan en su cuarto\n",
    "\n",
    "# son el segundo más alto de es parte de crecer timmy y el más alto de personas fiesteras\n",
    "# 4 los ninis\n",
    "\n",
    "# son los más bajos de es parte de crecer timmy y el tercero más bajo de personas fiesteras\n",
    "# 5 Los de la esquina en las fiestas\n",
    "pd.pivot_table(union, index=\"Cluster\").sort_values(by=\"es_parte_de_crecer_timmy\")"
   ]
  },
  {
   "cell_type": "code",
   "execution_count": 43,
   "metadata": {},
   "outputs": [
    {
     "data": {
      "text/html": [
       "<div>\n",
       "<style scoped>\n",
       "    .dataframe tbody tr th:only-of-type {\n",
       "        vertical-align: middle;\n",
       "    }\n",
       "\n",
       "    .dataframe tbody tr th {\n",
       "        vertical-align: top;\n",
       "    }\n",
       "\n",
       "    .dataframe thead th {\n",
       "        text-align: right;\n",
       "    }\n",
       "</style>\n",
       "<table border=\"1\" class=\"dataframe\">\n",
       "  <thead>\n",
       "    <tr style=\"text-align: right;\">\n",
       "      <th></th>\n",
       "      <th>0</th>\n",
       "      <th>2</th>\n",
       "      <th>Cluster</th>\n",
       "    </tr>\n",
       "  </thead>\n",
       "  <tbody>\n",
       "    <tr>\n",
       "      <th>0</th>\n",
       "      <td>10/6/2022 18:48:37</td>\n",
       "      <td>Damian</td>\n",
       "      <td>5</td>\n",
       "    </tr>\n",
       "    <tr>\n",
       "      <th>1</th>\n",
       "      <td>10/6/2022 18:49:07</td>\n",
       "      <td>Sebastian Zaaraga</td>\n",
       "      <td>0</td>\n",
       "    </tr>\n",
       "    <tr>\n",
       "      <th>2</th>\n",
       "      <td>10/6/2022 18:49:16</td>\n",
       "      <td>Mario Guadiana Martinez</td>\n",
       "      <td>1</td>\n",
       "    </tr>\n",
       "    <tr>\n",
       "      <th>3</th>\n",
       "      <td>10/6/2022 18:49:33</td>\n",
       "      <td>Cecilia</td>\n",
       "      <td>3</td>\n",
       "    </tr>\n",
       "    <tr>\n",
       "      <th>4</th>\n",
       "      <td>10/6/2022 18:49:33</td>\n",
       "      <td>Fabricio E</td>\n",
       "      <td>2</td>\n",
       "    </tr>\n",
       "    <tr>\n",
       "      <th>5</th>\n",
       "      <td>10/6/2022 18:49:54</td>\n",
       "      <td>Matias</td>\n",
       "      <td>0</td>\n",
       "    </tr>\n",
       "    <tr>\n",
       "      <th>6</th>\n",
       "      <td>10/6/2022 18:50:03</td>\n",
       "      <td>Viviana</td>\n",
       "      <td>2</td>\n",
       "    </tr>\n",
       "    <tr>\n",
       "      <th>7</th>\n",
       "      <td>10/6/2022 18:50:10</td>\n",
       "      <td>Fernanda Sandoval</td>\n",
       "      <td>2</td>\n",
       "    </tr>\n",
       "    <tr>\n",
       "      <th>8</th>\n",
       "      <td>10/6/2022 18:50:20</td>\n",
       "      <td>Jorge Ramiro</td>\n",
       "      <td>4</td>\n",
       "    </tr>\n",
       "    <tr>\n",
       "      <th>9</th>\n",
       "      <td>10/6/2022 18:50:38</td>\n",
       "      <td>Gerardo</td>\n",
       "      <td>3</td>\n",
       "    </tr>\n",
       "    <tr>\n",
       "      <th>10</th>\n",
       "      <td>10/6/2022 18:51:21</td>\n",
       "      <td>Fabiola</td>\n",
       "      <td>3</td>\n",
       "    </tr>\n",
       "    <tr>\n",
       "      <th>11</th>\n",
       "      <td>10/6/2022 18:51:45</td>\n",
       "      <td>Susana</td>\n",
       "      <td>1</td>\n",
       "    </tr>\n",
       "    <tr>\n",
       "      <th>12</th>\n",
       "      <td>10/6/2022 18:52:00</td>\n",
       "      <td>Gabriela</td>\n",
       "      <td>2</td>\n",
       "    </tr>\n",
       "    <tr>\n",
       "      <th>13</th>\n",
       "      <td>10/6/2022 18:52:11</td>\n",
       "      <td>Saúl Eduardo</td>\n",
       "      <td>1</td>\n",
       "    </tr>\n",
       "    <tr>\n",
       "      <th>14</th>\n",
       "      <td>10/6/2022 18:55:13</td>\n",
       "      <td>Laura Guadalupe Guzmán Mendoza</td>\n",
       "      <td>5</td>\n",
       "    </tr>\n",
       "    <tr>\n",
       "      <th>15</th>\n",
       "      <td>10/6/2022 20:47:31</td>\n",
       "      <td>José Carlos</td>\n",
       "      <td>3</td>\n",
       "    </tr>\n",
       "  </tbody>\n",
       "</table>\n",
       "</div>"
      ],
      "text/plain": [
       "                     0                               2  Cluster\n",
       "0   10/6/2022 18:48:37                          Damian        5\n",
       "1   10/6/2022 18:49:07               Sebastian Zaaraga        0\n",
       "2   10/6/2022 18:49:16         Mario Guadiana Martinez        1\n",
       "3   10/6/2022 18:49:33                         Cecilia        3\n",
       "4   10/6/2022 18:49:33                      Fabricio E        2\n",
       "5   10/6/2022 18:49:54                          Matias        0\n",
       "6   10/6/2022 18:50:03                         Viviana        2\n",
       "7   10/6/2022 18:50:10              Fernanda Sandoval         2\n",
       "8   10/6/2022 18:50:20                    Jorge Ramiro        4\n",
       "9   10/6/2022 18:50:38                         Gerardo        3\n",
       "10  10/6/2022 18:51:21                         Fabiola        3\n",
       "11  10/6/2022 18:51:45                          Susana        1\n",
       "12  10/6/2022 18:52:00                        Gabriela        2\n",
       "13  10/6/2022 18:52:11                   Saúl Eduardo         1\n",
       "14  10/6/2022 18:55:13  Laura Guadalupe Guzmán Mendoza        5\n",
       "15  10/6/2022 20:47:31                     José Carlos        3"
      ]
     },
     "execution_count": 43,
     "metadata": {},
     "output_type": "execute_result"
    }
   ],
   "source": [
    "id = df_survey.loc[:,[0,2]]\n",
    "clusters = model.labels_\n",
    "id[\"Cluster\"] = clusters\n",
    "id"
   ]
  }
 ],
 "metadata": {
  "kernelspec": {
   "display_name": "Python 3.9.13 ('ENV': venv)",
   "language": "python",
   "name": "python3"
  },
  "language_info": {
   "codemirror_mode": {
    "name": "ipython",
    "version": 3
   },
   "file_extension": ".py",
   "mimetype": "text/x-python",
   "name": "python",
   "nbconvert_exporter": "python",
   "pygments_lexer": "ipython3",
   "version": "3.9.13"
  },
  "orig_nbformat": 4,
  "vscode": {
   "interpreter": {
    "hash": "deaa85fecf6ea7b31a616dba5cf6a0cd08cd85e1a8337ad60d0fcd5bd59c0964"
   }
  }
 },
 "nbformat": 4,
 "nbformat_minor": 2
}
